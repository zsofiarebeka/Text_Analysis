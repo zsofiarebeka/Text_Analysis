{
 "cells": [
  {
   "cell_type": "markdown",
   "id": "82d3904f-4b3b-4415-9c6d-7a927148c6ae",
   "metadata": {},
   "source": [
    "# <center>Python Programming, Visualization and Text Analysis 2023/24 Winter<center>\n",
    "<center>Created by Zsófia Rebeka Katona<center>"
   ]
  },
  {
   "cell_type": "markdown",
   "id": "6f12902f-49ed-451d-b5a0-3d3a3ad65f7d",
   "metadata": {},
   "source": [
    "This assignment builds on the text similarity and classification material. (Please refer to the notebook on Naive Bayes for the latter.)\n",
    "\n",
    "You will be working with senator speeches located in the '105-extracted-date' folder within the 'Inputs' directory. Please complete the following tasks:\n",
    "\n",
    "i) Use cosine similarity to determine which senator's speech is closest to Senator Biden's. Describe your findings. Make sure to describe your text preprocessing and justify your choices. Validate your findings using 'sen105kh_fix.csv' and/or Wikipedia to see if the most similar speeches belong to senators from the same state and/or party. \n",
    "\n",
    "ii) How do your results change if you apply stemming or lemmatization? In your opinion, which is better to apply: stemming or lemmatization? Why?\n",
    "\n",
    "iii) Create at least two visualizations to support your analysis.\n",
    "\n",
    "iv) Use 'sen105kh_fix.csv' as the target variable for your predictions. Can you predict the party of the senator from their speech? Should you use the same text preprocessing as above? Justify your choices.\n",
    "\n",
    "v) Write a Medium article summarizing your findings. This article should be written with a general audience in mind. The best articles may be invited for submission to CEU Economic Threads.\n",
    "\n",
    "vi) Bonus 10 points: Read one of the articles that I have linked in this Medium post. Contrast your findings in i) with theirs and discuss any discrepancies. What are possible solutions?\n",
    "\n",
    "Feel free to collaborate and use resources such as StackOverflow and ChatGPT. However, you must submit individual solutions titled 'name-surname.ipynb'. Include the link to your Medium article in the notebook.\n",
    "\n",
    "Good luck!"
   ]
  },
  {
   "cell_type": "code",
   "execution_count": null,
   "id": "6120ae49-8997-4db2-a7e9-9095abf98e63",
   "metadata": {},
   "outputs": [],
   "source": []
  }
 ],
 "metadata": {
  "kernelspec": {
   "display_name": "Python 3 (ipykernel)",
   "language": "python",
   "name": "python3"
  },
  "language_info": {
   "codemirror_mode": {
    "name": "ipython",
    "version": 3
   },
   "file_extension": ".py",
   "mimetype": "text/x-python",
   "name": "python",
   "nbconvert_exporter": "python",
   "pygments_lexer": "ipython3",
   "version": "3.11.4"
  }
 },
 "nbformat": 4,
 "nbformat_minor": 5
}
